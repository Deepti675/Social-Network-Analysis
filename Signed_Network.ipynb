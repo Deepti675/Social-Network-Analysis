{
  "nbformat": 4,
  "nbformat_minor": 0,
  "metadata": {
    "colab": {
      "name": "SNA3.ipynb",
      "provenance": [],
      "collapsed_sections": []
    },
    "kernelspec": {
      "name": "python3",
      "display_name": "Python 3"
    },
    "language_info": {
      "name": "python"
    }
  },
  "cells": [
    {
      "cell_type": "code",
      "metadata": {
        "id": "0ntpqy1bvNgv"
      },
      "source": [
        "import pandas\n",
        "import networkx as nx\n",
        "import random\n",
        "import itertools\n",
        "import matplotlib.pyplot as plt"
      ],
      "execution_count": 73,
      "outputs": []
    },
    {
      "cell_type": "code",
      "metadata": {
        "colab": {
          "base_uri": "https://localhost:8080/",
          "height": 35
        },
        "id": "ZsP0KwkX4P-n",
        "outputId": "95a212a6-b5ce-4989-e44d-c074f0e27bc1"
      },
      "source": [
        "pwd"
      ],
      "execution_count": 80,
      "outputs": [
        {
          "output_type": "execute_result",
          "data": {
            "application/vnd.google.colaboratory.intrinsic+json": {
              "type": "string"
            },
            "text/plain": [
              "'/content'"
            ]
          },
          "metadata": {},
          "execution_count": 80
        }
      ]
    },
    {
      "cell_type": "code",
      "metadata": {
        "id": "0uHbKPrk4ZJw"
      },
      "source": [
        "data=pandas.read_csv(r\"/content/sample_data/BitCoin2.csv\")\n",
        "edge_list=data.values.tolist()\n"
      ],
      "execution_count": 82,
      "outputs": []
    },
    {
      "cell_type": "code",
      "metadata": {
        "id": "2VSloujJ4tO6"
      },
      "source": [
        "G=nx.DiGraph()"
      ],
      "execution_count": 83,
      "outputs": []
    },
    {
      "cell_type": "code",
      "metadata": {
        "colab": {
          "base_uri": "https://localhost:8080/"
        },
        "id": "_aHiXzfx4x84",
        "outputId": "ec18e65d-949c-491d-bb57-d75f7d293a76"
      },
      "source": [
        "for i in range(len(edge_list)):\n",
        "  G.add_edge(edge_list[i][0],edge_list[i][1],weight=edge_list[i][2])\n",
        "A=nx.adjacency_matrix(G)\n",
        "print(A)  "
      ],
      "execution_count": 84,
      "outputs": [
        {
          "output_type": "stream",
          "name": "stdout",
          "text": [
            "  (0, 1)\t10\n",
            "  (1, 7)\t10\n",
            "  (1, 10)\t4\n",
            "  (1, 11)\t3\n",
            "  (1, 12)\t7\n",
            "  (1, 13)\t5\n",
            "  (1, 14)\t5\n",
            "  (1, 15)\t5\n",
            "  (1, 16)\t5\n",
            "  (1, 17)\t4\n",
            "  (1, 18)\t4\n",
            "  (1, 19)\t4\n",
            "  (1, 20)\t4\n",
            "  (1, 21)\t4\n",
            "  (1, 22)\t4\n",
            "  (1, 23)\t3\n",
            "  (1, 24)\t3\n",
            "  (1, 25)\t3\n",
            "  (1, 26)\t3\n",
            "  (1, 27)\t3\n",
            "  (1, 28)\t3\n",
            "  (1, 29)\t3\n",
            "  (1, 30)\t3\n",
            "  (1, 31)\t3\n",
            "  (1, 32)\t3\n",
            "  :\t:\n",
            "  (53, 34)\t9\n",
            "  (54, 34)\t9\n",
            "  (55, 34)\t9\n",
            "  (56, 34)\t9\n",
            "  (57, 34)\t9\n",
            "  (58, 34)\t9\n",
            "  (59, 34)\t8\n",
            "  (60, 34)\t8\n",
            "  (61, 34)\t8\n",
            "  (62, 34)\t8\n",
            "  (63, 34)\t8\n",
            "  (64, 34)\t8\n",
            "  (65, 34)\t8\n",
            "  (66, 34)\t8\n",
            "  (67, 34)\t8\n",
            "  (68, 34)\t8\n",
            "  (69, 34)\t8\n",
            "  (70, 34)\t7\n",
            "  (101, 102)\t10\n",
            "  (103, 102)\t10\n",
            "  (104, 102)\t10\n",
            "  (105, 102)\t8\n",
            "  (106, 102)\t8\n",
            "  (107, 102)\t8\n",
            "  (108, 102)\t7\n"
          ]
        }
      ]
    },
    {
      "cell_type": "code",
      "metadata": {
        "id": "7oGV-v425YSK"
      },
      "source": [
        "for i in range(len(edge_list)):\n",
        "  if(edge_list[i][2]>=1):\n",
        "    edge_list[i][2]=1\n",
        "  else:\n",
        "    edge_list[i][2]=-1  "
      ],
      "execution_count": 85,
      "outputs": []
    },
    {
      "cell_type": "code",
      "metadata": {
        "colab": {
          "base_uri": "https://localhost:8080/"
        },
        "id": "CvwSaYPt6BYN",
        "outputId": "2fde49dd-50e4-4494-d96e-1619d5f32305"
      },
      "source": [
        "for i in range(len(edge_list)):\n",
        "  G.add_edge(edge_list[i][0],edge_list[i][1],weight=edge_list[i][2])\n",
        "B=nx.adjacency_matrix(G)\n",
        "print(B)  "
      ],
      "execution_count": 86,
      "outputs": [
        {
          "output_type": "stream",
          "name": "stdout",
          "text": [
            "  (0, 1)\t1\n",
            "  (1, 7)\t1\n",
            "  (1, 10)\t1\n",
            "  (1, 11)\t1\n",
            "  (1, 12)\t1\n",
            "  (1, 13)\t1\n",
            "  (1, 14)\t1\n",
            "  (1, 15)\t1\n",
            "  (1, 16)\t1\n",
            "  (1, 17)\t1\n",
            "  (1, 18)\t1\n",
            "  (1, 19)\t1\n",
            "  (1, 20)\t1\n",
            "  (1, 21)\t1\n",
            "  (1, 22)\t1\n",
            "  (1, 23)\t1\n",
            "  (1, 24)\t1\n",
            "  (1, 25)\t1\n",
            "  (1, 26)\t1\n",
            "  (1, 27)\t1\n",
            "  (1, 28)\t1\n",
            "  (1, 29)\t1\n",
            "  (1, 30)\t1\n",
            "  (1, 31)\t1\n",
            "  (1, 32)\t1\n",
            "  :\t:\n",
            "  (53, 34)\t1\n",
            "  (54, 34)\t1\n",
            "  (55, 34)\t1\n",
            "  (56, 34)\t1\n",
            "  (57, 34)\t1\n",
            "  (58, 34)\t1\n",
            "  (59, 34)\t1\n",
            "  (60, 34)\t1\n",
            "  (61, 34)\t1\n",
            "  (62, 34)\t1\n",
            "  (63, 34)\t1\n",
            "  (64, 34)\t1\n",
            "  (65, 34)\t1\n",
            "  (66, 34)\t1\n",
            "  (67, 34)\t1\n",
            "  (68, 34)\t1\n",
            "  (69, 34)\t1\n",
            "  (70, 34)\t1\n",
            "  (101, 102)\t1\n",
            "  (103, 102)\t1\n",
            "  (104, 102)\t1\n",
            "  (105, 102)\t1\n",
            "  (106, 102)\t1\n",
            "  (107, 102)\t1\n",
            "  (108, 102)\t1\n"
          ]
        }
      ]
    },
    {
      "cell_type": "markdown",
      "metadata": {
        "id": "e7_a0XtXoNjn"
      },
      "source": [
        "Given data is too big that's why, i am creating a new graph"
      ]
    },
    {
      "cell_type": "code",
      "metadata": {
        "id": "jy1P6W8koGXH"
      },
      "source": [
        "G=nx.Graph()\n",
        "n=10\n",
        "G.add_nodes_from([i for i in range(1,n+1)])\n",
        "mapping = {1:'N1',2:'N2',3:'N3',4:'N4',5:'N5',6:'N6',7:'N7',8:'N8',9:'N9',10:'N10'}\n",
        "G=nx.relabel_nodes(G,mapping)"
      ],
      "execution_count": 74,
      "outputs": []
    },
    {
      "cell_type": "code",
      "metadata": {
        "id": "HZCspzccqAba"
      },
      "source": [
        "signs=['+','-']\n",
        "for i in G.nodes():\n",
        "  for j in G.nodes():\n",
        "    if i!=j:\n",
        "      G.add_edge(i,j,sign=random.choice(signs))"
      ],
      "execution_count": 75,
      "outputs": []
    },
    {
      "cell_type": "code",
      "metadata": {
        "colab": {
          "base_uri": "https://localhost:8080/",
          "height": 319
        },
        "id": "LKgOLJ9bqk13",
        "outputId": "d50e1c6c-7110-4062-9a3a-309629bfcce6"
      },
      "source": [
        "edge_labels=nx.get_edge_attributes(G,'sign')\n",
        "pos=nx.circular_layout(G)\n",
        "nx.draw(G,pos,node_size=5000)\n",
        "nx.draw_networkx_edge_labels(G,pos,edge_labels=edge_labels,font_size=20,font_color='blue')\n",
        "plt.show()"
      ],
      "execution_count": 76,
      "outputs": [
        {
          "output_type": "display_data",
          "data": {
            "image/png": "[encoded data removed]",
            "text/plain": [
              "<Figure size 432x288 with 1 Axes>"
            ]
          },
          "metadata": {}
        }
      ]
    },
    {
      "cell_type": "code",
      "metadata": {
        "id": "ESYoM5HruY-b"
      },
      "source": [
        "def Get_signs_of_tris(t_list,G):\n",
        "  a_sign=[]\n",
        "  for i in range(len(t_list)):\n",
        "    temp=[]\n",
        "    temp.append(G[t_list[i][0]][t_list[i][1]]['sign'])\n",
        "    temp.append(G[t_list[i][1]][t_list[i][2]]['sign'])\n",
        "    temp.append(G[t_list[i][2]][t_list[i][0]]['sign'])\n",
        "    a_sign.append(temp)\n",
        "  unstable= count_unstable(a_sign) "
      ],
      "execution_count": 77,
      "outputs": []
    },
    {
      "cell_type": "code",
      "metadata": {
        "id": "uGbg5wDIv0Fd"
      },
      "source": [
        "def count_unstable(a_sign):\n",
        "  stable=0\n",
        "  unstable=0\n",
        "  for i in range(len(a_sign)):\n",
        "    if a_sign[i].count('+')==3 or a_sign[i].count('+')==1:\n",
        "      stable+=1\n",
        "    elif a_sign[i].count('+')==2 or a_sign[i].count('+')==0:\n",
        "      unstable+=1\n",
        "  print('Number of balanced cycle',stable)    \n",
        "  print('Number of unbalanced cycle',unstable)    "
      ],
      "execution_count": 78,
      "outputs": []
    },
    {
      "cell_type": "code",
      "metadata": {
        "colab": {
          "base_uri": "https://localhost:8080/"
        },
        "id": "DkMwU1gwr2Bl",
        "outputId": "a7618e1e-4b99-44a2-f6e3-5df6974aedc7"
      },
      "source": [
        "nodes=G.nodes()\n",
        "t_list=[list(x) for x in itertools.combinations(nodes,3)]\n",
        "a_sign=[]\n",
        "a_sign = Get_signs_of_tris(t_list,G)\n"
      ],
      "execution_count": 79,
      "outputs": [
        {
          "output_type": "stream",
          "name": "stdout",
          "text": [
            "Number of balanced cycle 64\n",
            "Number of unbalanced cycle 56\n"
          ]
        }
      ]
    }
  ]
}