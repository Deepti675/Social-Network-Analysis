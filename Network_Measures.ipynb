{
  "nbformat": 4,
  "nbformat_minor": 0,
  "metadata": {
    "colab": {
      "name": "Network_Measures.ipynb",
      "provenance": []
    },
    "kernelspec": {
      "name": "python3",
      "display_name": "Python 3"
    },
    "language_info": {
      "name": "python"
    }
  },
  "cells": [
    {
      "cell_type": "code",
      "execution_count": null,
      "metadata": {
        "id": "kNRlk4awZFLf"
      },
      "outputs": [],
      "source": [
        "import networkx as nx\n",
        "import matplotlib.pyplot as plt\n",
        "\n",
        "G=nx.read_edgelist(r\"C:\\Users\\Deepti\\Desktop\\Datasets/facebook_combined.txt\")\n",
        "print(nx.info(G))\n",
        "x=G.number_of_edges()\n",
        "y=G.number_of_nodes()\n",
        "\n",
        "print(\"Number of edges:\",x)\n",
        "print(\"Number of nodes:\",y)\n",
        "print(\"Average degree:\",x/y)\n",
        "\n",
        "def plot_degree_dist(G):\n",
        "    degrees = [G.degree(n) for n in G.nodes()]\n",
        "    plt.hist(degrees)\n",
        "    plt.show()\n",
        "\n",
        "plot_degree_dist(nx.gnp_random_graph(100, 0.5, directed=True))\n",
        "\n",
        "\n",
        "no_traingles=(y*(y-1)*(y-2))/6\n",
        "print(\"No of traingles:\",no_traingles)\n",
        "\n",
        "diameter=nx.diameter(G)\n",
        "print(\"diameter of graph:\",diameter)\n",
        "\n",
        "component=nx.number_connected_components(G)\n",
        "print(\"Num of connected components:\",component)\n",
        "\n",
        "clustering=nx.clustering(G)\n",
        "print(\"Clustering coefficient:\",clustering)\n",
        "\n",
        "\n",
        "largest_component=G.subgraph(max(nx.connected_components(G), key=len))\n",
        "print(\"size of largest connected component:\",largest_component)\n",
        "\n",
        "largest_component_nodes=max(nx.connected_components(G),key=len)\n",
        "print(\"nodes of largest connected component:\",largest_component_nodes)"
      ]
    }
  ]
}